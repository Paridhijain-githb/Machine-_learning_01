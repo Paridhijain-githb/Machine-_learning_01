{
 "cells": [
  {
   "cell_type": "markdown",
   "id": "873f7f95",
   "metadata": {},
   "source": [
    "1. Data Gathering"
   ]
  },
  {
   "cell_type": "markdown",
   "id": "f759e9b8",
   "metadata": {},
   "source": [
    "2. Perform basic data quality checks\n",
    "3. Remove duplicates if any"
   ]
  },
  {
   "cell_type": "markdown",
   "id": "301136ca",
   "metadata": {},
   "source": [
    "4. Separate your data into X and Y features\n",
    "5. Create Data pipelines => Cleaning, Preprocessing"
   ]
  },
  {
   "cell_type": "markdown",
   "id": "ce1c09ba",
   "metadata": {},
   "source": [
    "6. EDA - Exploratory Data Analysis- Descriptive/statiscal Analysis\n",
    "7. Train Test Split - Splitting of data into training and testing\n",
    "8. Choose the algorithm for final model building\n",
    "9. Build the model"
   ]
  },
  {
   "cell_type": "markdown",
   "id": "a1bfe50b",
   "metadata": {},
   "source": [
    "10. Evaluation of model- using respective evaluation metrics=> if the model is really providing accurate results or not. You check with test data(xtest,ytest)-unseen data.\n",
    "11. Out of sample predictions with the finalised model."
   ]
  },
  {
   "cell_type": "code",
   "execution_count": null,
   "id": "862e418c",
   "metadata": {},
   "outputs": [],
   "source": []
  },
  {
   "cell_type": "markdown",
   "id": "2aff79c7",
   "metadata": {},
   "source": []
  }
 ],
 "metadata": {
  "language_info": {
   "name": "python"
  }
 },
 "nbformat": 4,
 "nbformat_minor": 5
}
