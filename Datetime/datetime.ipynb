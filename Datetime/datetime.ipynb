{
 "cells": [
  {
   "cell_type": "code",
   "execution_count": 3,
   "id": "5fc10a95",
   "metadata": {},
   "outputs": [],
   "source": [
    "names = 'raman'"
   ]
  },
  {
   "cell_type": "markdown",
   "id": "631ffbdc",
   "metadata": {},
   "source": [
    "I have date related data: year-month-day.\n",
    "to store in date related format, then we can use datetime.date() method"
   ]
  },
  {
   "cell_type": "code",
   "execution_count": 4,
   "id": "b07033fe",
   "metadata": {},
   "outputs": [
    {
     "ename": "NameError",
     "evalue": "name 'datetime' is not defined",
     "output_type": "error",
     "traceback": [
      "\u001b[31m---------------------------------------------------------------------------\u001b[39m",
      "\u001b[31mNameError\u001b[39m                                 Traceback (most recent call last)",
      "\u001b[36mCell\u001b[39m\u001b[36m \u001b[39m\u001b[32mIn[4]\u001b[39m\u001b[32m, line 1\u001b[39m\n\u001b[32m----> \u001b[39m\u001b[32m1\u001b[39m \u001b[43mdatetime\u001b[49m.date(\u001b[32m2019\u001b[39m,\u001b[32m8\u001b[39m,\u001b[32m23\u001b[39m)\n",
      "\u001b[31mNameError\u001b[39m: name 'datetime' is not defined"
     ]
    }
   ],
   "source": [
    "datetime.date(2019,8,23)"
   ]
  },
  {
   "cell_type": "code",
   "execution_count": null,
   "id": "ca9a5f5e",
   "metadata": {},
   "outputs": [],
   "source": [
    "d1 = datetime.date(2025,12,30)"
   ]
  },
  {
   "cell_type": "code",
   "execution_count": null,
   "id": "5ba9c4fe",
   "metadata": {},
   "outputs": [],
   "source": [
    "d1"
   ]
  },
  {
   "cell_type": "code",
   "execution_count": null,
   "id": "d0c3d04e",
   "metadata": {},
   "outputs": [],
   "source": [
    "d1.year"
   ]
  },
  {
   "cell_type": "code",
   "execution_count": null,
   "id": "a9dbc8d6",
   "metadata": {},
   "outputs": [],
   "source": [
    "d1.month"
   ]
  },
  {
   "cell_type": "code",
   "execution_count": null,
   "id": "27b3d39d",
   "metadata": {},
   "outputs": [],
   "source": [
    "d1.day"
   ]
  },
  {
   "cell_type": "markdown",
   "id": "98a5c58e",
   "metadata": {},
   "source": [
    "I have date related data and time related data: year-month-day hour-minutes-seconds.\n",
    "to store in date related format, then we can use datetime.datetime()"
   ]
  },
  {
   "cell_type": "code",
   "execution_count": null,
   "id": "31c3d3f8",
   "metadata": {},
   "outputs": [],
   "source": [
    "datetime.datetime(2019,3,23,9,46,50)"
   ]
  },
  {
   "cell_type": "code",
   "execution_count": null,
   "id": "5466cbea",
   "metadata": {},
   "outputs": [],
   "source": [
    "dt1 = datetime.datetime.now()"
   ]
  },
  {
   "cell_type": "code",
   "execution_count": null,
   "id": "2ccebd5f",
   "metadata": {},
   "outputs": [],
   "source": [
    "dt1"
   ]
  },
  {
   "cell_type": "code",
   "execution_count": null,
   "id": "be760faa",
   "metadata": {},
   "outputs": [],
   "source": [
    "dt1.year"
   ]
  },
  {
   "cell_type": "code",
   "execution_count": null,
   "id": "915e4b35",
   "metadata": {},
   "outputs": [],
   "source": [
    "dt1.hour"
   ]
  },
  {
   "cell_type": "code",
   "execution_count": null,
   "id": "f9c42650",
   "metadata": {},
   "outputs": [],
   "source": [
    "dt1.second"
   ]
  },
  {
   "cell_type": "code",
   "execution_count": null,
   "id": "2ae0c28b",
   "metadata": {},
   "outputs": [],
   "source": [
    "dt1.minute"
   ]
  },
  {
   "cell_type": "code",
   "execution_count": null,
   "id": "e3b9dfe4",
   "metadata": {},
   "outputs": [],
   "source": [
    "I have time related data: hour-minute-sec\n",
    "to store in date related format, then we can use datetime.time()"
   ]
  },
  {
   "cell_type": "code",
   "execution_count": null,
   "id": "adaef700",
   "metadata": {},
   "outputs": [],
   "source": [
    "#datetime.time(hour,minutes,seconds,microseconds)\n",
    "datetime.time(9,47,50,35000)\n"
   ]
  },
  {
   "cell_type": "markdown",
   "id": "411d1b95",
   "metadata": {},
   "source": [
    "dateframes/datasets"
   ]
  },
  {
   "cell_type": "code",
   "execution_count": null,
   "id": "2e9d961d",
   "metadata": {},
   "outputs": [],
   "source": []
  },
  {
   "cell_type": "code",
   "execution_count": null,
   "id": "6a88fbee",
   "metadata": {},
   "outputs": [],
   "source": []
  },
  {
   "cell_type": "code",
   "execution_count": null,
   "id": "aaee9657",
   "metadata": {},
   "outputs": [],
   "source": []
  },
  {
   "cell_type": "code",
   "execution_count": null,
   "id": "c1ac5a11",
   "metadata": {},
   "outputs": [],
   "source": [
    "st1 = '2019-09-13'"
   ]
  },
  {
   "cell_type": "code",
   "execution_count": null,
   "id": "3533560e",
   "metadata": {},
   "outputs": [],
   "source": [
    "st1"
   ]
  },
  {
   "cell_type": "code",
   "execution_count": null,
   "id": "cd2ba291",
   "metadata": {},
   "outputs": [],
   "source": [
    "pd.to_datetime(st1)"
   ]
  },
  {
   "cell_type": "code",
   "execution_count": null,
   "id": "9bd3df0e",
   "metadata": {},
   "outputs": [],
   "source": [
    "st1_d = pd.to_datetime(st1)\n",
    "st1_d"
   ]
  },
  {
   "cell_type": "code",
   "execution_count": null,
   "id": "beac479e",
   "metadata": {},
   "outputs": [],
   "source": [
    "st1_d.year"
   ]
  },
  {
   "cell_type": "code",
   "execution_count": null,
   "id": "95d53dd0",
   "metadata": {},
   "outputs": [],
   "source": [
    "st1_d.date()"
   ]
  },
  {
   "cell_type": "code",
   "execution_count": null,
   "id": "68beb7a4",
   "metadata": {},
   "outputs": [],
   "source": [
    "st1_d.month\n"
   ]
  },
  {
   "cell_type": "code",
   "execution_count": null,
   "id": "4b4baea5",
   "metadata": {},
   "outputs": [],
   "source": [
    "st1_d.hour"
   ]
  },
  {
   "cell_type": "code",
   "execution_count": null,
   "id": "e2fb8769",
   "metadata": {},
   "outputs": [],
   "source": [
    "st1_d.minute"
   ]
  },
  {
   "cell_type": "code",
   "execution_count": null,
   "id": "40bb7c50",
   "metadata": {},
   "outputs": [],
   "source": [
    "path = r\"E:\\Sindhura\\DataSets\\Sample Superstore.xlsx\"\n",
    "df = pd.read_excel(path)\n",
    "df.head()\n",
    "C:\\Users\\HP\\anaconda3\\Lib\\site-packages\\openpyxl\\worksheet\\header_footer.py:48: UserWarning: Cannot parse header or footer so it will be ignored\n",
    "  warn(\"\"\"Cannot parse header or footer so it will be ignored\"\"\")\n"
   ]
  },
  {
   "cell_type": "code",
   "execution_count": null,
   "id": "0c6067bb",
   "metadata": {},
   "outputs": [],
   "source": [
    "df.info()"
   ]
  },
  {
   "cell_type": "code",
   "execution_count": null,
   "id": "1edd2de8",
   "metadata": {},
   "outputs": [],
   "source": [
    "df['Order Date'] = pd.to_datetime(df['Order Date'])"
   ]
  },
  {
   "cell_type": "code",
   "execution_count": null,
   "id": "55cb631a",
   "metadata": {},
   "outputs": [],
   "source": [
    "path2 = r\"E:\\Sindhura\\DS Material\\Machine Learning\\Regression Project\\historical_data.csv\"\n",
    "df2 = pd.read_csv(path2)\n",
    "df2.head()\n"
   ]
  },
  {
   "cell_type": "code",
   "execution_count": null,
   "id": "951aa6fe",
   "metadata": {},
   "outputs": [],
   "source": [
    "df2.info()"
   ]
  },
  {
   "cell_type": "code",
   "execution_count": null,
   "id": "dd02763b",
   "metadata": {},
   "outputs": [],
   "source": [
    "df2['created_at'] = pd.to_datetime(df2['created_at'])\n",
    "df2['actual_delivery_time'] = pd.to_datetime(df2['actual_delivery_time'])"
   ]
  },
  {
   "cell_type": "code",
   "execution_count": null,
   "id": "bbdd9fee",
   "metadata": {},
   "outputs": [],
   "source": [
    "df2.info()"
   ]
  },
  {
   "cell_type": "code",
   "execution_count": null,
   "id": "1547d6d3",
   "metadata": {},
   "outputs": [],
   "source": [
    "df2['created_at']"
   ]
  },
  {
   "cell_type": "code",
   "execution_count": null,
   "id": "07ed0cd7",
   "metadata": {},
   "outputs": [],
   "source": [
    "df2['created_at'].dt.year"
   ]
  },
  {
   "cell_type": "code",
   "execution_count": null,
   "id": "7073ceaf",
   "metadata": {},
   "outputs": [],
   "source": [
    "df2['created_at'].dt.minute"
   ]
  },
  {
   "cell_type": "code",
   "execution_count": null,
   "id": "23d35e19",
   "metadata": {},
   "outputs": [],
   "source": [
    "df2['created_at'].dt.hour"
   ]
  },
  {
   "cell_type": "code",
   "execution_count": null,
   "id": "42f8b35c",
   "metadata": {},
   "outputs": [],
   "source": [
    "df2['created_at'].dt.second"
   ]
  },
  {
   "cell_type": "code",
   "execution_count": null,
   "id": "751d460a",
   "metadata": {},
   "outputs": [],
   "source": [
    "## difference of these columns result in delivery duration\n",
    "df2['delivery_duration'] = df2['actual_delivery_time'] - df2['created_at'] "
   ]
  },
  {
   "cell_type": "code",
   "execution_count": null,
   "id": "d0797fa0",
   "metadata": {},
   "outputs": [],
   "source": [
    "df2['delivery_duration'].dtype"
   ]
  },
  {
   "cell_type": "code",
   "execution_count": null,
   "id": "4a8039dc",
   "metadata": {},
   "outputs": [],
   "source": [
    "## difference of these columns result in delivery duration and showcase in numeric form\n",
    "df2['delivery_duration_2'] = (df2['actual_delivery_time'] - df2['created_at']).dt.total_seconds()\n",
    "df2['delivery_duration_2']\n"
   ]
  },
  {
   "cell_type": "code",
   "execution_count": null,
   "id": "015eceb8",
   "metadata": {},
   "outputs": [],
   "source": [
    "## difference of these columns result in delivery duration and showcase in numeric form\n",
    "df2['delivery_duration_2'] = (df2['actual_delivery_time'] - df2['created_at'])\n",
    "df2['delivery_duration_2'] = pd.to_timedelta(df2['delivery_duration_2'])\n",
    "df2['delivery_duration_2']\n"
   ]
  },
  {
   "cell_type": "code",
   "execution_count": null,
   "id": "15b5b37c",
   "metadata": {},
   "outputs": [],
   "source": [
    "df2['created_at'] = df2['created_at'].fillna(method='ffill')"
   ]
  },
  {
   "cell_type": "code",
   "execution_count": null,
   "id": "841a8223",
   "metadata": {},
   "outputs": [],
   "source": []
  },
  {
   "cell_type": "code",
   "execution_count": null,
   "id": "26ec9316",
   "metadata": {},
   "outputs": [],
   "source": []
  },
  {
   "cell_type": "code",
   "execution_count": null,
   "id": "78f0ea74",
   "metadata": {},
   "outputs": [],
   "source": []
  }
 ],
 "metadata": {
  "kernelspec": {
   "display_name": "Python 3",
   "language": "python",
   "name": "python3"
  },
  "language_info": {
   "codemirror_mode": {
    "name": "ipython",
    "version": 3
   },
   "file_extension": ".py",
   "mimetype": "text/x-python",
   "name": "python",
   "nbconvert_exporter": "python",
   "pygments_lexer": "ipython3",
   "version": "3.13.9"
  }
 },
 "nbformat": 4,
 "nbformat_minor": 5
}
